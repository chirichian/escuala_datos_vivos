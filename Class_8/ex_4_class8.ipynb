{
 "cells": [
  {
   "cell_type": "code",
   "execution_count": 1,
   "metadata": {},
   "outputs": [
    {
     "name": "stderr",
     "output_type": "stream",
     "text": [
      "23/09/03 20:45:26 WARN Utils: Your hostname, rodrigo-Latitude-5400 resolves to a loopback address: 127.0.1.1; using 192.168.0.177 instead (on interface wlo1)\n",
      "23/09/03 20:45:26 WARN Utils: Set SPARK_LOCAL_IP if you need to bind to another address\n",
      "Setting default log level to \"WARN\".\n",
      "To adjust logging level use sc.setLogLevel(newLevel). For SparkR, use setLogLevel(newLevel).\n",
      "23/09/03 20:45:27 WARN NativeCodeLoader: Unable to load native-hadoop library for your platform... using builtin-java classes where applicable\n",
      "/home/rodrigo/miniconda3/envs/edvai/lib/python3.10/site-packages/pyspark/sql/context.py:720: FutureWarning: HiveContext is deprecated in Spark 2.0.0. Please use SparkSession.builder.enableHiveSupport().getOrCreate() instead.\n",
      "  warnings.warn(\n",
      "/home/rodrigo/miniconda3/envs/edvai/lib/python3.10/site-packages/pyspark/sql/context.py:112: FutureWarning: Deprecated in 3.0.0. Use SparkSession.builder.getOrCreate() instead.\n",
      "  warnings.warn(\n"
     ]
    }
   ],
   "source": [
    "from pyspark.sql.session import SparkSession\n",
    "from pyspark.context import SparkContext\n",
    "sc = SparkContext('local')\n",
    "\n",
    "from pyspark.sql import HiveContext\n",
    "hc = HiveContext(sc)\n",
    "\n",
    "# Create a Spark session\n",
    "spark = SparkSession(sc)\n",
    "\n",
    "# Read Parquet files\n",
    "#results_csv = \"hdfs://172.17.0.2:9000/ingest/results.csv\"\n",
    "#drivers_csv = \"hdfs://172.17.0.2:9000/ingest/drivers.csv\"\n",
    "#constructors_csv = \"hdfs://172.17.0.2:9000/ingest/constructors.csv\"\n",
    "\n",
    "results_csv = \"../data/results.csv\"\n",
    "drivers_csv = \"../data/drivers.csv\"\n",
    "constructors_csv = \"../data/constructors.csv\"\n",
    "\n",
    "#Load data\n",
    "df_res = spark.read.option(\"header\", True).csv(results_csv)\n",
    "\n",
    "df_driv = spark.read.option(\"header\", True).csv(drivers_csv)\n",
    "\n",
    "df_cons = spark.read.option(\"header\", True).csv(constructors_csv)\n"
   ]
  },
  {
   "cell_type": "code",
   "execution_count": 18,
   "metadata": {},
   "outputs": [
    {
     "name": "stdout",
     "output_type": "stream",
     "text": [
      "+--------+------+--------+-------------+------+----+--------+------------+-------------+------+----+-----------+------------+----------+----+--------------+---------------+--------+\n",
      "|resultId|raceId|driverId|constructorId|number|grid|position|positionText|positionOrder|points|laps|       time|milliseconds|fastestLap|rank|fastestLapTime|fastestLapSpeed|statusId|\n",
      "+--------+------+--------+-------------+------+----+--------+------------+-------------+------+----+-----------+------------+----------+----+--------------+---------------+--------+\n",
      "|       1|    18|       1|            1|    22|   1|       1|           1|            1|    10|  58|1:34:50.616|     5690616|        39|   2|      1:27.452|        218.300|       1|\n",
      "|       2|    18|       2|            2|     3|   5|       2|           2|            2|     8|  58|     +5.478|     5696094|        41|   3|      1:27.739|        217.586|       1|\n",
      "|       3|    18|       3|            3|     7|   7|       3|           3|            3|     6|  58|     +8.163|     5698779|        41|   5|      1:28.090|        216.719|       1|\n",
      "|       4|    18|       4|            4|     5|  11|       4|           4|            4|     5|  58|    +17.181|     5707797|        58|   7|      1:28.603|        215.464|       1|\n",
      "|       5|    18|       5|            1|    23|   3|       5|           5|            5|     4|  58|    +18.014|     5708630|        43|   1|      1:27.418|        218.385|       1|\n",
      "+--------+------+--------+-------------+------+----+--------+------------+-------------+------+----+-----------+------------+----------+----+--------------+---------------+--------+\n",
      "only showing top 5 rows\n",
      "\n"
     ]
    }
   ],
   "source": [
    "df_res = df_res.withColumn(\"points\", df_res[\"points\"].cast(\"integer\"))\n",
    "df_res.show(5)"
   ]
  },
  {
   "cell_type": "code",
   "execution_count": 45,
   "metadata": {},
   "outputs": [],
   "source": [
    "#join drivers and results\n",
    "drivers_res = df_res.join(df_driv, df_res.driverId == df_driv.driverId)\n",
    "#select columns\n",
    "drivers_res= drivers_res.select(drivers_res.forename, drivers_res.surname, drivers_res.nationality, drivers_res.points, df_res.driverId)"
   ]
  },
  {
   "cell_type": "code",
   "execution_count": 47,
   "metadata": {},
   "outputs": [],
   "source": [
    "#group by drivers sum point\n",
    "most_point = df_res.groupBy(\"driverId\").sum(\"points\").orderBy(\"sum(points)\", ascending=False)\n",
    "#filter columns > than 0\n",
    "most_point = most_point.filter(most_point[\"sum(points)\"] > 0)"
   ]
  },
  {
   "cell_type": "code",
   "execution_count": 54,
   "metadata": {},
   "outputs": [],
   "source": [
    "#Filter drivers with most points\n",
    "drivers_load = drivers_res.filter(drivers_res.driverId == most_point.driverId).select(drivers_res.forename,drivers_res.surname,drivers_res.nationality,drivers_res.points)\n",
    "\n",
    "##Creamos una vista con la data filtrada###\n",
    "drivers_load.createOrReplaceTempView(\"drivers_load_view\")\n"
   ]
  },
  {
   "cell_type": "code",
   "execution_count": 55,
   "metadata": {},
   "outputs": [
    {
     "data": {
      "text/plain": [
       "DataFrame[forename: string, surname: string, nationality: string, points: int]"
      ]
     },
     "execution_count": 55,
     "metadata": {},
     "output_type": "execute_result"
    }
   ],
   "source": [
    "drivers_load"
   ]
  },
  {
   "cell_type": "code",
   "execution_count": 53,
   "metadata": {},
   "outputs": [
    {
     "name": "stdout",
     "output_type": "stream",
     "text": [
      "+--------+----------+-----------+------+\n",
      "|forename|   surname|nationality|points|\n",
      "+--------+----------+-----------+------+\n",
      "|   Lewis|  Hamilton|    British|    10|\n",
      "|    Nick|  Heidfeld|     German|     8|\n",
      "|    Nico|   Rosberg|     German|     6|\n",
      "|Fernando|    Alonso|    Spanish|     5|\n",
      "|  Heikki|Kovalainen|    Finnish|     4|\n",
      "+--------+----------+-----------+------+\n",
      "only showing top 5 rows\n",
      "\n"
     ]
    }
   ],
   "source": [
    "\n",
    "#Insert data into table\n",
    "##insertamos el DF filtrado en la tabla tripdata_table\n",
    "hc.sql(\"insert into f1.driver_results select * from drivers_load_view;\")"
   ]
  },
  {
   "cell_type": "markdown",
   "metadata": {},
   "source": [
    "# punto 2 ex 5"
   ]
  },
  {
   "cell_type": "code",
   "execution_count": 65,
   "metadata": {},
   "outputs": [],
   "source": [
    "total_cons = df_res.filter(df_res.raceId == 318).groupby(\"constructorId\").sum(\"points\").orderBy(\"sum(points)\", ascending=False)\n",
    "total_cons = total_cons.filter(total_cons[\"sum(points)\"] > 0)"
   ]
  },
  {
   "cell_type": "code",
   "execution_count": 70,
   "metadata": {},
   "outputs": [
    {
     "name": "stdout",
     "output_type": "stream",
     "text": [
      "+-------------+-----------+\n",
      "|constructorId|sum(points)|\n",
      "+-------------+-----------+\n",
      "|            3|         14|\n",
      "|            6|          9|\n",
      "|            1|          2|\n",
      "|           22|          1|\n",
      "+-------------+-----------+\n",
      "\n"
     ]
    }
   ],
   "source": [
    "total_cons.show()"
   ]
  },
  {
   "cell_type": "code",
   "execution_count": 79,
   "metadata": {},
   "outputs": [
    {
     "name": "stdout",
     "output_type": "stream",
     "text": [
      "+-------------+--------------+----------+-----------+--------------------+\n",
      "|constructorId|constructorRef|      name|nationality|                 url|\n",
      "+-------------+--------------+----------+-----------+--------------------+\n",
      "|            1|       mclaren|   McLaren|    British|http://en.wikiped...|\n",
      "|            2|    bmw_sauber|BMW Sauber|     German|http://en.wikiped...|\n",
      "+-------------+--------------+----------+-----------+--------------------+\n",
      "only showing top 2 rows\n",
      "\n"
     ]
    }
   ],
   "source": [
    "df_cons.show(2)"
   ]
  },
  {
   "cell_type": "code",
   "execution_count": 80,
   "metadata": {},
   "outputs": [
    {
     "data": {
      "text/plain": [
       "[('constructorId', 'string'),\n",
       " ('constructorRef', 'string'),\n",
       " ('name', 'string'),\n",
       " ('nationality', 'string'),\n",
       " ('url', 'string')]"
      ]
     },
     "execution_count": 80,
     "metadata": {},
     "output_type": "execute_result"
    }
   ],
   "source": [
    "#type of values in df_cons\n",
    "df_cons.dtypes"
   ]
  },
  {
   "cell_type": "code",
   "execution_count": 96,
   "metadata": {},
   "outputs": [],
   "source": [
    "#left join between df_cons and total_cons\n",
    "df_cons_filt = total_cons.join(df_cons, df_cons.constructorId == total_cons.constructorId, how=\"left\").select(df_cons.constructorRef, df_cons.name, df_cons.nationality, df_cons.url, total_cons[\"sum(points)\"].alias(\"total_points\"))\n"
   ]
  },
  {
   "cell_type": "code",
   "execution_count": 97,
   "metadata": {},
   "outputs": [
    {
     "name": "stdout",
     "output_type": "stream",
     "text": [
      "+--------------+--------+-----------+--------------------+------------+\n",
      "|constructorRef|    name|nationality|                 url|total_points|\n",
      "+--------------+--------+-----------+--------------------+------------+\n",
      "|      williams|Williams|    British|http://en.wikiped...|          14|\n",
      "|      benetton|Benetton|    Italian|http://en.wikiped...|           1|\n",
      "|       ferrari| Ferrari|    Italian|http://en.wikiped...|           9|\n",
      "|       mclaren| McLaren|    British|http://en.wikiped...|           2|\n",
      "+--------------+--------+-----------+--------------------+------------+\n",
      "\n"
     ]
    }
   ],
   "source": [
    "df_cons_filt.show()"
   ]
  },
  {
   "cell_type": "code",
   "execution_count": null,
   "metadata": {},
   "outputs": [],
   "source": [
    "##Creamos una vista con la data filtrada###\n",
    "drivers_load.createOrReplaceTempView(\"drivers_load_view\")\n",
    "\n",
    "#Insert data into table\n",
    "##insertamos el DF filtrado en la tabla tripdata_table\n",
    "hc.sql(\"insert into f1.driver_results select * from drivers_load_view;\")"
   ]
  }
 ],
 "metadata": {
  "kernelspec": {
   "display_name": "edvai",
   "language": "python",
   "name": "python3"
  },
  "language_info": {
   "codemirror_mode": {
    "name": "ipython",
    "version": 3
   },
   "file_extension": ".py",
   "mimetype": "text/x-python",
   "name": "python",
   "nbconvert_exporter": "python",
   "pygments_lexer": "ipython3",
   "version": "3.10.12"
  },
  "orig_nbformat": 4
 },
 "nbformat": 4,
 "nbformat_minor": 2
}
